{
 "cells": [
  {
   "cell_type": "code",
   "execution_count": 1,
   "metadata": {
    "collapsed": false
   },
   "outputs": [
    {
     "name": "stdout",
     "output_type": "stream",
     "text": [
      "Couldn't import dot_parser, loading of dot files will not be possible.\n"
     ]
    }
   ],
   "source": [
    "#A Bayesian approach to A/B testing\n",
    "\n",
    "import pymc as pm\n",
    "\n",
    "p = pm.Uniform('p', lower=0, upper=1)"
   ]
  },
  {
   "cell_type": "code",
   "execution_count": 53,
   "metadata": {
    "collapsed": false
   },
   "outputs": [
    {
     "name": "stdout",
     "output_type": "stream",
     "text": [
      "[False False False ..., False False False]\n",
      "167\n"
     ]
    }
   ],
   "source": [
    "#setting Constants\n",
    "\n",
    "p_true = 0.05\n",
    "N = 3000\n",
    "\n",
    "#sample N Bernoulli random Variables from Ber(0.05)\n",
    "#Each random variable has a 0.05 change of being 1.\n",
    "#This is our data generation step\n",
    "\n",
    "occurrences = pm.rbernoulli(p_true, N)\n",
    "\n",
    "print occurrences\n",
    "print occurrences.sum()"
   ]
  },
  {
   "cell_type": "code",
   "execution_count": 54,
   "metadata": {
    "collapsed": false
   },
   "outputs": [
    {
     "name": "stdout",
     "output_type": "stream",
     "text": [
      "What is the observed frequency in Group A? 0.0557\n",
      "Does this equal the true freq? False\n"
     ]
    }
   ],
   "source": [
    "print \"What is the observed frequency in Group A? %.4f\" %occurrences.mean()\n",
    "print \"Does this equal the true freq? %s\" % (occurrences.mean() == p_true)"
   ]
  },
  {
   "cell_type": "code",
   "execution_count": 60,
   "metadata": {
    "collapsed": false
   },
   "outputs": [
    {
     "name": "stdout",
     "output_type": "stream",
     "text": [
      " [-----------------100%-----------------] 18000 of 18000 complete in 5.7 sec"
     ]
    }
   ],
   "source": [
    "obs = pm.Bernoulli(\"obs\", p, value=occurrences, observed=True)\n",
    "\n",
    "mcmc = pm.MCMC([p,obs])\n",
    "mcmc.sample(18000,1000)"
   ]
  },
  {
   "cell_type": "code",
   "execution_count": 61,
   "metadata": {
    "collapsed": false
   },
   "outputs": [
    {
     "data": {
      "text/plain": [
       "<matplotlib.legend.Legend at 0x11792c510>"
      ]
     },
     "execution_count": 61,
     "metadata": {},
     "output_type": "execute_result"
    },
    {
     "data": {
      "image/png": "[encoded data removed]",
      "text/plain": [
       "<matplotlib.figure.Figure at 0x1174435d0>"
      ]
     },
     "metadata": {},
     "output_type": "display_data"
    }
   ],
   "source": [
    "%matplotlib inline\n",
    "from IPython.core.pylabtools import figsize\n",
    "from matplotlib import pyplot as plt\n",
    "figsize(12.5, 4)\n",
    "\n",
    "plt.title(\"Posterior distribution of $p_A$, the true effectiveness of site A\")\n",
    "plt.vlines(p_true, 0, 90, linestyle='--', label=\"true $p_A$ (unknown)\")\n",
    "plt.hist(mcmc.trace(\"p\")[:], bins=25, histtype=\"stepfilled\", normed=True)\n",
    "plt.legend()"
   ]
  },
  {
   "cell_type": "code",
   "execution_count": 63,
   "metadata": {
    "collapsed": false
   },
   "outputs": [
    {
     "name": "stdout",
     "output_type": "stream",
     "text": [
      " Obs from Site A: [1 0 0 0 0 0 0 0 0 0 0 0 0 0 0 0 0 0 0 0 0 0 0 0 0 0 0 0 0 0] ...\n",
      "Obs from Site B: [0 0 0 0 0 0 0 0 1 0 0 0 0 0 0 0 0 0 0 1 0 0 0 0 0 0 0 0 0 0] ...\n"
     ]
    }
   ],
   "source": [
    "true_p_A = 0.05\n",
    "true_p_B = 0.04\n",
    "\n",
    "N_A = 1500\n",
    "N_B = 750\n",
    "\n",
    "#generate some observations\n",
    "observations_A = pm.rbernoulli(true_p_A, N_A)\n",
    "observations_B = pm.rbernoulli(true_p_B, N_B)\n",
    "\n",
    "print \"Obs from Site A:\", observations_A[:30].astype(int), '...'\n",
    "print \"Obs from Site B:\", observations_B[:30].astype(int), '...'\n",
    "\n"
   ]
  },
  {
   "cell_type": "code",
   "execution_count": 64,
   "metadata": {
    "collapsed": false
   },
   "outputs": [
    {
     "name": "stdout",
     "output_type": "stream",
     "text": [
      "0.0533333333333\n",
      "0.0386666666667\n"
     ]
    }
   ],
   "source": [
    "print observations_A.mean()\n",
    "print observations_B.mean()"
   ]
  },
  {
   "cell_type": "code",
   "execution_count": 65,
   "metadata": {
    "collapsed": false
   },
   "outputs": [
    {
     "name": "stdout",
     "output_type": "stream",
     "text": [
      " [-----------------100%-----------------] 20000 of 20000 complete in 3.6 sec"
     ]
    }
   ],
   "source": [
    "#set up pymc model\n",
    "#Lets continue to assume uniform prior distributions\n",
    "\n",
    "p_A = pm.Uniform(\"p_A\", 0, 1)\n",
    "p_B = pm.Uniform(\"p_B\", 0, 1)\n",
    "\n",
    "\n",
    "#Define a deterministic delta function\n",
    "\n",
    "@pm.deterministic\n",
    "def delta(p_A=p_A, p_B=p_B):\n",
    "    return p_A - p_B\n",
    "\n",
    "#Let's create some simulated observations, \n",
    "obs_A = pm.Bernoulli(\"obs_A\", p_A, value=observations_A, observed=True)\n",
    "obs_B = pm.Bernoulli(\"obs_B\", p_B, value=observations_B, observed=True)\n",
    "\n",
    "#Lets generate the simulations\n",
    "\n",
    "mcmc = pm.MCMC([p_A, p_B, delta, obs_A, obs_B])\n",
    "mcmc.sample(20000, 1000)"
   ]
  },
  {
   "cell_type": "code",
   "execution_count": 66,
   "metadata": {
    "collapsed": true
   },
   "outputs": [],
   "source": [
    "#Once we have observations we can generate posterior distributions\n",
    "\n",
    "p_A_samples = mcmc.trace(\"p_A\")[:]\n",
    "p_B_samples = mcmc.trace(\"p_B\")[:]\n",
    "delta_samples = mcmc.trace(\"delta\")[:]\n",
    "\n"
   ]
  },
  {
   "cell_type": "code",
   "execution_count": 68,
   "metadata": {
    "collapsed": false
   },
   "outputs": [
    {
     "data": {
      "image/png": "[encoded data removed]",
      "text/plain": [
       "<matplotlib.figure.Figure at 0x117f82150>"
      ]
     },
     "metadata": {},
     "output_type": "display_data"
    }
   ],
   "source": [
    "#And now we plot for some visual understanding of the posterior vs prior\n",
    "\n",
    "figsize(12.5, 10)\n",
    "\n",
    "ax = plt.subplot(311)\n",
    "\n",
    "plt.xlim(0, .1)\n",
    "plt.hist(p_A_samples, histtype=\"stepfilled\", bins=25, alpha=0.85,\n",
    "        label=\"posterior of $p_A$\", color=\"#A60628\", normed=True)\n",
    "plt.vlines(true_p_A, 0, 80, linestyle='--', label=\"True $p_A$ (unknown)\")\n",
    "plt.legend(loc=\"upper right\")\n",
    "plt.title(\"Posterior distributions of $p_A$, $p_B$, and $delta$ unknowns\")\n",
    "\n",
    "ax = plt.subplot(312)\n",
    "\n",
    "plt.xlim(0, .1)\n",
    "plt.hist(p_B_samples, histtype=\"stepfilled\", bins=25, alpha= 0.85,\n",
    "        label=\"posterior of $p_B$\", color=\"#467821\",normed=True)\n",
    "plt.vlines(true_p_B, 0, 60, linestyle='--', label=\"True $p_B$ (unknown)\")\n",
    "plt.legend(loc=\"upper right\")\n",
    "\n",
    "ax = plt.subplot(313)\n",
    "plt.hist(delta_samples, histtype=\"stepfilled\", bins=30, alpha=0.85,\n",
    "        label=\"posterior of delta\", color=\"#7A68A6\", normed=True)\n",
    "plt.vlines(true_p_A - true_p_B, 0, 60, linestyle=\"--\",\n",
    "           label=\"true delta (unknown)\")\n",
    "plt.vlines(0, 0, 60, color=\"black\", alpha=0.2)\n",
    "plt.legend(loc=\"upper right\");\n",
    "\n",
    "\n"
   ]
  },
  {
   "cell_type": "code",
   "execution_count": 69,
   "metadata": {
    "collapsed": false
   },
   "outputs": [
    {
     "name": "stdout",
     "output_type": "stream",
     "text": [
      "Probability site A is WORSE than site B: 0.057\n",
      "Probability site B is WORSE than site A: 0.943\n"
     ]
    }
   ],
   "source": [
    "#Since we are comparing two options: Site A and B we can measure th\n",
    "#difference between the performance in the site\n",
    "#Since Delta equals A-B we can know that any value of a negative delta\n",
    "#Suggests that B did better than A\n",
    "#we can take a mean of the values that are greater than\n",
    "#and less than zero and get some sense of how likely our results are accurate\n",
    "print \"Probability site A is WORSE than site B: %.3f\" % \\\n",
    "        (delta_samples < 0).mean()\n",
    "    \n",
    "print \"Probability site B is WORSE than site A: %.3f\" % \\\n",
    "        (delta_samples > 0).mean()\n",
    "\n",
    "\n"
   ]
  }
 ],
 "metadata": {
  "kernelspec": {
   "display_name": "Python 2",
   "language": "python",
   "name": "python2"
  },
  "language_info": {
   "codemirror_mode": {
    "name": "ipython",
    "version": 2
   },
   "file_extension": ".py",
   "mimetype": "text/x-python",
   "name": "python",
   "nbconvert_exporter": "python",
   "pygments_lexer": "ipython2",
   "version": "2.7.9"
  }
 },
 "nbformat": 4,
 "nbformat_minor": 0
}
